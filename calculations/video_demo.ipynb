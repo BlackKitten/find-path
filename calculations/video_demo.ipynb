{
 "cells": [
  {
   "cell_type": "markdown",
   "metadata": {},
   "source": [
    "# Video Demo\n",
    "This file shows how to get results from the neural model by using video."
   ]
  },
  {
   "cell_type": "code",
   "execution_count": 1,
   "metadata": {
    "collapsed": true
   },
   "outputs": [],
   "source": [
    "from __future__ import absolute_import\n",
    "from __future__ import division\n",
    "from __future__ import print_function\n",
    "\n",
    "import logging\n",
    "import sys\n",
    "import random\n",
    "import datetime\n",
    "\n",
    "import cv2\n",
    "import numpy as np\n",
    "import scipy as scp\n",
    "import scipy.misc\n",
    "import tensorflow as tf\n",
    "\n",
    "import fcn16_vgg\n",
    "import utils"
   ]
  },
  {
   "cell_type": "markdown",
   "metadata": {},
   "source": [
    "Define constants and variables"
   ]
  },
  {
   "cell_type": "code",
   "execution_count": 2,
   "metadata": {
    "collapsed": true
   },
   "outputs": [],
   "source": [
    "RESOURCE = '../dataset'\n",
    "MODEL_PATH = \"./models/model-300-5-40.ckpt\"\n",
    "\n",
    "# Boundary, route, obstacle.\n",
    "colors = [[120, 193, 243], [120, 168, 0], [65, 94, 254]]\n",
    "\n",
    "height = 180\n",
    "width = 320\n",
    "num_classes = 3"
   ]
  },
  {
   "cell_type": "markdown",
   "metadata": {},
   "source": [
    "Define TensorFlow input and output placeholders. Build FCN-VGG model."
   ]
  },
  {
   "cell_type": "code",
   "execution_count": 3,
   "metadata": {
    "collapsed": false
   },
   "outputs": [
    {
     "name": "stdout",
     "output_type": "stream",
     "text": [
      "npy file loaded\n",
      "Layer name: conv1_1\n",
      "Layer shape: (3, 3, 3, 64)\n",
      "Layer name: conv1_2\n",
      "Layer shape: (3, 3, 64, 64)\n",
      "Layer name: conv2_1\n",
      "Layer shape: (3, 3, 64, 128)\n",
      "Layer name: conv2_2\n",
      "Layer shape: (3, 3, 128, 128)\n",
      "Layer name: conv3_1\n",
      "Layer shape: (3, 3, 128, 256)\n",
      "Layer name: conv3_2\n",
      "Layer shape: (3, 3, 256, 256)\n",
      "Layer name: conv3_3\n",
      "Layer shape: (3, 3, 256, 256)\n",
      "Layer name: conv4_1\n",
      "Layer shape: (3, 3, 256, 512)\n",
      "Layer name: conv4_2\n",
      "Layer shape: (3, 3, 512, 512)\n",
      "Layer name: conv4_3\n",
      "Layer shape: (3, 3, 512, 512)\n",
      "Layer name: conv5_1\n",
      "Layer shape: (3, 3, 512, 512)\n",
      "Layer name: conv5_2\n",
      "Layer shape: (3, 3, 512, 512)\n",
      "Layer name: conv5_3\n",
      "Layer shape: (3, 3, 512, 512)\n",
      "Layer name: fc6\n",
      "Layer shape: [7, 7, 512, 4096]\n",
      "Layer name: fc7\n",
      "Layer shape: [1, 1, 4096, 4096]\n",
      "Layer name: fc8\n",
      "Layer shape: [1, 1, 4096, 1000]\n",
      "Finished building Network.\n"
     ]
    }
   ],
   "source": [
    "input_placeholder = tf.placeholder(tf.float32, [None, height, width, num_classes])\n",
    "output_placeholder = tf.placeholder(tf.float32, [None, height, width, num_classes])\n",
    "\n",
    "vgg_fcn = fcn16_vgg.FCN16VGG('./vgg16.npy')\n",
    "\n",
    "with tf.name_scope(\"content_vgg\"):\n",
    "    vgg_fcn.build(input_placeholder, train=True, num_classes=num_classes)\n",
    "    \n",
    "print('Finished building Network.')"
   ]
  },
  {
   "cell_type": "markdown",
   "metadata": {},
   "source": [
    "Run video and save the output into file."
   ]
  },
  {
   "cell_type": "code",
   "execution_count": 4,
   "metadata": {
    "collapsed": false
   },
   "outputs": [],
   "source": [
    "# Initializing the variables.\n",
    "init = tf.global_variables_initializer()\n",
    "\n",
    "# Saver op to save and restore all the variables\n",
    "saver = tf.train.Saver()\n",
    "\n",
    "# With CPU mini-batch size can be bigger.\n",
    "with tf.device('/cpu:0'):\n",
    "    config = tf.ConfigProto(allow_soft_placement=True)\n",
    "    config.gpu_options.allow_growth = True\n",
    "\n",
    "    with tf.Session(config=config) as sess:\n",
    "        # Restore model weights from previously saved model.\n",
    "        saver.restore(sess, MODEL_PATH)\n",
    "        \n",
    "        fourcc = cv2.VideoWriter_fourcc(*'XVID')\n",
    "        out = cv2.VideoWriter('video16-output.avi',fourcc, 10.0, (960,180))\n",
    "        \n",
    "        cap = cv2.VideoCapture(\"video16.avi\")\n",
    "        cap.set(1, 0) # Where frame_no is the frame you want\n",
    "        \n",
    "        while cap.isOpened():\n",
    "            ret, frame = cap.read()\n",
    "            if ret == True:\n",
    "                frame = cv2.resize(frame, (320, 180))\n",
    "\n",
    "                prediction = sess.run(vgg_fcn.pred_up, feed_dict={input_placeholder: [frame]})\n",
    "                regions_image = utils.regions_to_colored_image(prediction[0], colors).astype(np.uint8)\n",
    "                merged_image = utils.merge_images(frame, regions_image, 0.4).astype(np.uint8)\n",
    "                view = np.concatenate((frame, merged_image, regions_image), axis=1)\n",
    "\n",
    "                cv2.imshow('Default View', view)\n",
    "                out.write(view)\n",
    "                k = cv2.waitKey(1) & 0xFF\n",
    "                if k == 27:\n",
    "                    break\n",
    "            else:\n",
    "                break\n",
    "                \n",
    "        cap.release()\n",
    "        out.release()\n",
    "\n",
    "cv2.destroyAllWindows()"
   ]
  }
 ],
 "metadata": {
  "kernelspec": {
   "display_name": "Python 3",
   "language": "python",
   "name": "python3"
  },
  "language_info": {
   "codemirror_mode": {
    "name": "ipython",
    "version": 3
   },
   "file_extension": ".py",
   "mimetype": "text/x-python",
   "name": "python",
   "nbconvert_exporter": "python",
   "pygments_lexer": "ipython3",
   "version": "3.5.2"
  }
 },
 "nbformat": 4,
 "nbformat_minor": 2
}
