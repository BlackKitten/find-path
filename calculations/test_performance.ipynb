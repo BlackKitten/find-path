{
 "cells": [
  {
   "cell_type": "markdown",
   "metadata": {},
   "source": [
    "# Test Performance"
   ]
  },
  {
   "cell_type": "code",
   "execution_count": 1,
   "metadata": {
    "collapsed": true
   },
   "outputs": [],
   "source": [
    "from __future__ import absolute_import\n",
    "from __future__ import division\n",
    "from __future__ import print_function\n",
    "\n",
    "import time\n",
    "\n",
    "import numpy as np\n",
    "import tensorflow as tf\n",
    "\n",
    "import fcn16_vgg\n",
    "import utils\n",
    "import accuracy"
   ]
  },
  {
   "cell_type": "markdown",
   "metadata": {},
   "source": [
    "Load dataset. Split dataset into train, validation and test datasets. Define height, width and number of classes."
   ]
  },
  {
   "cell_type": "code",
   "execution_count": 2,
   "metadata": {
    "collapsed": true
   },
   "outputs": [],
   "source": [
    "RESOURCE = '../dataset'\n",
    "MODEL_PATH = \"./models/model-300-5-40.ckpt\"\n",
    "\n",
    "input_set = np.load(\"input_set.npy\")\n",
    "output_set = np.load(\"output_set.npy\")\n",
    "\n",
    "train_input_set, train_output_set, test_input_set, test_output_set \\\n",
    "    = utils.train_test_split(input_set, output_set, 0.1)\n",
    "\n",
    "train_input_set, train_output_set, valid_input_set, valid_output_set \\\n",
    "    = utils.train_test_split(train_input_set, train_output_set, 0.1)\n",
    "    \n",
    "height = 180\n",
    "width = 320\n",
    "num_classes = 3"
   ]
  },
  {
   "cell_type": "markdown",
   "metadata": {},
   "source": [
    "Define TensorFlow input and output placeholders."
   ]
  },
  {
   "cell_type": "code",
   "execution_count": 3,
   "metadata": {
    "collapsed": false
   },
   "outputs": [],
   "source": [
    "input_placeholder = tf.placeholder(tf.float32, [None, height, width, num_classes])\n",
    "output_placeholder = tf.placeholder(tf.float32, [None, height, width, num_classes])"
   ]
  },
  {
   "cell_type": "markdown",
   "metadata": {},
   "source": [
    "Build FCN-VGG16 neural network."
   ]
  },
  {
   "cell_type": "code",
   "execution_count": 4,
   "metadata": {
    "collapsed": false
   },
   "outputs": [
    {
     "name": "stdout",
     "output_type": "stream",
     "text": [
      "npy file loaded\n",
      "Layer name: conv1_1\n",
      "Layer shape: (3, 3, 3, 64)\n",
      "Layer name: conv1_2\n",
      "Layer shape: (3, 3, 64, 64)\n",
      "Layer name: conv2_1\n",
      "Layer shape: (3, 3, 64, 128)\n",
      "Layer name: conv2_2\n",
      "Layer shape: (3, 3, 128, 128)\n",
      "Layer name: conv3_1\n",
      "Layer shape: (3, 3, 128, 256)\n",
      "Layer name: conv3_2\n",
      "Layer shape: (3, 3, 256, 256)\n",
      "Layer name: conv3_3\n",
      "Layer shape: (3, 3, 256, 256)\n",
      "Layer name: conv4_1\n",
      "Layer shape: (3, 3, 256, 512)\n",
      "Layer name: conv4_2\n",
      "Layer shape: (3, 3, 512, 512)\n",
      "Layer name: conv4_3\n",
      "Layer shape: (3, 3, 512, 512)\n",
      "Layer name: conv5_1\n",
      "Layer shape: (3, 3, 512, 512)\n",
      "Layer name: conv5_2\n",
      "Layer shape: (3, 3, 512, 512)\n",
      "Layer name: conv5_3\n",
      "Layer shape: (3, 3, 512, 512)\n",
      "Layer name: fc6\n",
      "Layer shape: [7, 7, 512, 4096]\n",
      "Layer name: fc7\n",
      "Layer shape: [1, 1, 4096, 4096]\n",
      "Layer name: fc8\n",
      "Layer shape: [1, 1, 4096, 1000]\n",
      "Finished building Network.\n"
     ]
    }
   ],
   "source": [
    "vgg_fcn = fcn16_vgg.FCN16VGG('./vgg16.npy')\n",
    "\n",
    "with tf.name_scope(\"content_vgg\"):\n",
    "    vgg_fcn.build(input_placeholder, train=True, num_classes=num_classes)\n",
    "    \n",
    "print('Finished building Network.')"
   ]
  },
  {
   "cell_type": "code",
   "execution_count": 5,
   "metadata": {
    "collapsed": false
   },
   "outputs": [],
   "source": [
    "def compare(predicted_data, real_data):\n",
    "    \"\"\"Compare predicted image with real image.\n",
    "\n",
    "    Args:\n",
    "        predicted_data: numpy array, int32 - [height, width].\n",
    "            Array of the prediction.\n",
    "        real_data: numpy array, int32 - [height, width].\n",
    "            Array of the real.\n",
    "\n",
    "    Returns:\n",
    "        result: float32.\n",
    "            Similarity of the images.\n",
    "    \"\"\"\n",
    "    num_equals = 0\n",
    "    height, width = predicted_data.shape[:2]\n",
    "\n",
    "    match_pixels = (predicted_data == real_data).flatten()\n",
    "    result = match_pixels[match_pixels == True]\n",
    "    result = 100.0 * result.shape[0] / (height * width)\n",
    "    return result"
   ]
  },
  {
   "cell_type": "markdown",
   "metadata": {},
   "source": [
    "Load TensorFlow trained model. Measure accuracy and speed."
   ]
  },
  {
   "cell_type": "code",
   "execution_count": 6,
   "metadata": {
    "collapsed": false
   },
   "outputs": [
    {
     "name": "stdout",
     "output_type": "stream",
     "text": [
      "972\n",
      "93.12326388888889\n",
      "109\n",
      "99.11979166666667\n",
      "94\n",
      "94.953125\n",
      "110\n",
      "98.0625\n",
      "109\n",
      "97.65798611111111\n",
      "108\n",
      "96.58506944444444\n",
      "104\n",
      "99.35069444444444\n",
      "105\n",
      "97.25694444444444\n",
      "100\n",
      "95.62673611111111\n",
      "102\n",
      "95.41840277777777\n",
      "101\n",
      "98.08333333333333\n",
      "103\n",
      "99.015625\n",
      "102\n",
      "92.92361111111111\n",
      "103\n",
      "98.97743055555556\n",
      "98\n",
      "99.45486111111111\n",
      "105\n",
      "91.25868055555556\n",
      "97\n",
      "93.49652777777777\n",
      "109\n",
      "95.92361111111111\n",
      "94\n",
      "98.80208333333333\n",
      "110\n",
      "97.86458333333333\n",
      "109\n",
      "92.3125\n",
      "94\n",
      "95.95486111111111\n",
      "109\n",
      "98.73090277777777\n",
      "94\n",
      "91.9375\n",
      "109\n",
      "90.52430555555556\n",
      "110\n",
      "96.01388888888889\n",
      "93\n",
      "95.01909722222223\n",
      "105\n",
      "98.56944444444444\n",
      "100\n",
      "97.46701388888889\n",
      "103\n",
      "94.36111111111111\n",
      "Average time: 132.03333333333333\n",
      "Average accuracy: 96.12818287037037\n"
     ]
    }
   ],
   "source": [
    "# Initializing the variables.\n",
    "init = tf.global_variables_initializer()\n",
    "\n",
    "# Saver op to save and restore all the variables\n",
    "saver = tf.train.Saver()\n",
    "\n",
    "# With CPU mini-batch size can be bigger.\n",
    "\n",
    "average_time = 0.0\n",
    "average_accuracy = 0.0\n",
    "with tf.device('/cpu:0'):\n",
    "    config = tf.ConfigProto(allow_soft_placement=True)\n",
    "    config.gpu_options.allow_growth = True\n",
    "\n",
    "    with tf.Session(config=config) as sess:\n",
    "        # Restore model weights from previously saved model.\n",
    "        saver.restore(sess, MODEL_PATH)\n",
    "        \n",
    "        for i in range(test_input_set.shape[0]):\n",
    "            start_time = int(round(time.time() * 1000))\n",
    "            \n",
    "            prediction = sess.run(vgg_fcn.pred_up, feed_dict={input_placeholder: [test_input_set[i]]})\n",
    "            \n",
    "            # Time measurement.\n",
    "            end_time = int(round(time.time() * 1000))\n",
    "            average_time += end_time - start_time\n",
    "            print(end_time - start_time)\n",
    "            average_accuracy += accuracy.compare(prediction[0], test_output_set[i].argmax(2))\n",
    "            print(accuracy.compare(prediction[0], test_output_set[i].argmax(2)))\n",
    "\n",
    "average_time /= test_input_set.shape[0]\n",
    "print(\"Average time: \" + str(average_time))\n",
    "\n",
    "average_accuracy /= test_input_set.shape[0]\n",
    "print(\"Average accuracy: \" + str(average_accuracy))\n"
   ]
  }
 ],
 "metadata": {
  "kernelspec": {
   "display_name": "Python 3",
   "language": "python",
   "name": "python3"
  },
  "language_info": {
   "codemirror_mode": {
    "name": "ipython",
    "version": 3
   },
   "file_extension": ".py",
   "mimetype": "text/x-python",
   "name": "python",
   "nbconvert_exporter": "python",
   "pygments_lexer": "ipython3",
   "version": "3.5.2"
  }
 },
 "nbformat": 4,
 "nbformat_minor": 2
}
